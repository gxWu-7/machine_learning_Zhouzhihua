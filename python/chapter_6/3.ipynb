{
 "cells": [
  {
   "cell_type": "markdown",
   "id": "aaea3abb",
   "metadata": {},
   "source": [
    "# 习题6.3\n",
    "选择两个UCI数据集，分别用线性核和高斯核训练一个SVM，并与BP神经网络核C4.5决策树进行实验比较。"
   ]
  },
  {
   "cell_type": "markdown",
   "id": "ac290da1",
   "metadata": {},
   "source": [
    "## 0. 导入依赖包"
   ]
  },
  {
   "cell_type": "code",
   "execution_count": 1,
   "id": "e7113c03",
   "metadata": {},
   "outputs": [],
   "source": [
    "import pandas as pd\n",
    "import numpy as np\n",
    "from sklearn.model_selection import KFold, train_test_split, cross_val_score, cross_validate\n",
    "from sklearn import svm, tree, neural_network"
   ]
  },
  {
   "cell_type": "markdown",
   "id": "8a000e8f",
   "metadata": {},
   "source": [
    "## 1.导入UCI数据集(iris.data)"
   ]
  },
  {
   "cell_type": "code",
   "execution_count": 2,
   "id": "1e04ba01",
   "metadata": {},
   "outputs": [
    {
     "data": {
      "text/html": [
       "<div>\n",
       "<style scoped>\n",
       "    .dataframe tbody tr th:only-of-type {\n",
       "        vertical-align: middle;\n",
       "    }\n",
       "\n",
       "    .dataframe tbody tr th {\n",
       "        vertical-align: top;\n",
       "    }\n",
       "\n",
       "    .dataframe thead th {\n",
       "        text-align: right;\n",
       "    }\n",
       "</style>\n",
       "<table border=\"1\" class=\"dataframe\">\n",
       "  <thead>\n",
       "    <tr style=\"text-align: right;\">\n",
       "      <th></th>\n",
       "      <th>5.1</th>\n",
       "      <th>3.5</th>\n",
       "      <th>1.4</th>\n",
       "      <th>0.2</th>\n",
       "      <th>Iris-setosa</th>\n",
       "    </tr>\n",
       "  </thead>\n",
       "  <tbody>\n",
       "    <tr>\n",
       "      <th>0</th>\n",
       "      <td>4.9</td>\n",
       "      <td>3.0</td>\n",
       "      <td>1.4</td>\n",
       "      <td>0.2</td>\n",
       "      <td>Iris-setosa</td>\n",
       "    </tr>\n",
       "    <tr>\n",
       "      <th>1</th>\n",
       "      <td>4.7</td>\n",
       "      <td>3.2</td>\n",
       "      <td>1.3</td>\n",
       "      <td>0.2</td>\n",
       "      <td>Iris-setosa</td>\n",
       "    </tr>\n",
       "    <tr>\n",
       "      <th>2</th>\n",
       "      <td>4.6</td>\n",
       "      <td>3.1</td>\n",
       "      <td>1.5</td>\n",
       "      <td>0.2</td>\n",
       "      <td>Iris-setosa</td>\n",
       "    </tr>\n",
       "    <tr>\n",
       "      <th>3</th>\n",
       "      <td>5.0</td>\n",
       "      <td>3.6</td>\n",
       "      <td>1.4</td>\n",
       "      <td>0.2</td>\n",
       "      <td>Iris-setosa</td>\n",
       "    </tr>\n",
       "    <tr>\n",
       "      <th>4</th>\n",
       "      <td>5.4</td>\n",
       "      <td>3.9</td>\n",
       "      <td>1.7</td>\n",
       "      <td>0.4</td>\n",
       "      <td>Iris-setosa</td>\n",
       "    </tr>\n",
       "  </tbody>\n",
       "</table>\n",
       "</div>"
      ],
      "text/plain": [
       "   5.1  3.5  1.4  0.2  Iris-setosa\n",
       "0  4.9  3.0  1.4  0.2  Iris-setosa\n",
       "1  4.7  3.2  1.3  0.2  Iris-setosa\n",
       "2  4.6  3.1  1.5  0.2  Iris-setosa\n",
       "3  5.0  3.6  1.4  0.2  Iris-setosa\n",
       "4  5.4  3.9  1.7  0.4  Iris-setosa"
      ]
     },
     "execution_count": 2,
     "metadata": {},
     "output_type": "execute_result"
    }
   ],
   "source": [
    "df = pd.read_csv('../../data/chapter_6/iris.data')\n",
    "df.head()"
   ]
  },
  {
   "cell_type": "code",
   "execution_count": 3,
   "id": "ea78d868",
   "metadata": {},
   "outputs": [],
   "source": [
    "X, y = df.iloc[:, :4].values, df.iloc[:, 4].values"
   ]
  },
  {
   "cell_type": "markdown",
   "id": "21198d1f",
   "metadata": {},
   "source": [
    "## 2.模型比较"
   ]
  },
  {
   "cell_type": "markdown",
   "id": "962cb060",
   "metadata": {},
   "source": [
    "### 2.1 SVM(线性核)"
   ]
  },
  {
   "cell_type": "code",
   "execution_count": 4,
   "id": "7798f461",
   "metadata": {},
   "outputs": [],
   "source": [
    "linear_svm = svm.SVC(C=1, kernel='linear')\n",
    "linear_svm_scores = cross_validate(linear_svm, X, y, cv=5, scoring='accuracy')"
   ]
  },
  {
   "cell_type": "markdown",
   "id": "ddf95c65",
   "metadata": {},
   "source": [
    "### 2.2 SVM(高斯核)"
   ]
  },
  {
   "cell_type": "code",
   "execution_count": 5,
   "id": "a46b79bb",
   "metadata": {},
   "outputs": [],
   "source": [
    "# kernel的默认参数为'rpf'，使用高斯核\n",
    "rbf_svm = svm.SVC(C=1)\n",
    "rbf_svm_scores = cross_validate(rbf_svm, X, y, cv=5, scoring='accuracy')"
   ]
  },
  {
   "cell_type": "markdown",
   "id": "529bed20",
   "metadata": {},
   "source": [
    "### 2.3 BP神经网络"
   ]
  },
  {
   "cell_type": "code",
   "execution_count": 6,
   "id": "1d4666c9",
   "metadata": {},
   "outputs": [],
   "source": [
    "x_train,x_test,y_train,y_test = train_test_split(X, y,test_size = 0.2,random_state = 42)\n",
    "bp = neural_network.MLPClassifier(solver='lbfgs',\n",
    "                                  alpha=1e-5, \n",
    "                                  random_state=1)\n",
    "bp.fit(x_train, y_train)\n",
    "y_pred = bp.predict(x_test)"
   ]
  },
  {
   "cell_type": "code",
   "execution_count": 7,
   "id": "8dc6bebc",
   "metadata": {},
   "outputs": [],
   "source": [
    "y_test[y_test == y_pred] = 1\n",
    "test_acc = y_test[y_test == 1].sum() * 1.0 / y_pred.shape[0]"
   ]
  },
  {
   "cell_type": "markdown",
   "id": "2f128ada",
   "metadata": {},
   "source": [
    "### 3.4 CART"
   ]
  },
  {
   "cell_type": "code",
   "execution_count": 8,
   "id": "d390d5c1",
   "metadata": {},
   "outputs": [],
   "source": [
    "cart_tree = tree.DecisionTreeClassifier()\n",
    "tree_scores = cross_validate(rbf_svm, X, y, cv=5, scoring='accuracy')"
   ]
  },
  {
   "cell_type": "markdown",
   "id": "36b9c896",
   "metadata": {},
   "source": [
    "### 3.5 比较"
   ]
  },
  {
   "cell_type": "code",
   "execution_count": 9,
   "id": "651be830",
   "metadata": {},
   "outputs": [
    {
     "name": "stdout",
     "output_type": "stream",
     "text": [
      "svm linear:  0.9800000000000001\n",
      "svm rpf:  0.9666666666666666\n",
      "bp:  0.9333333333333333\n",
      "cart:  0.9666666666666666\n"
     ]
    }
   ],
   "source": [
    "print(\"svm linear: \", linear_svm_scores['test_score'].mean())\n",
    "print(\"svm rpf: \", rbf_svm_scores['test_score'].mean())\n",
    "print(\"bp: \", test_acc)\n",
    "print(\"cart: \", tree_scores['test_score'].mean())"
   ]
  },
  {
   "cell_type": "code",
   "execution_count": null,
   "id": "51b4f6c0",
   "metadata": {},
   "outputs": [],
   "source": []
  }
 ],
 "metadata": {
  "kernelspec": {
   "display_name": "Python 3",
   "language": "python",
   "name": "python3"
  },
  "language_info": {
   "codemirror_mode": {
    "name": "ipython",
    "version": 3
   },
   "file_extension": ".py",
   "mimetype": "text/x-python",
   "name": "python",
   "nbconvert_exporter": "python",
   "pygments_lexer": "ipython3",
   "version": "3.8.5"
  }
 },
 "nbformat": 4,
 "nbformat_minor": 5
}
